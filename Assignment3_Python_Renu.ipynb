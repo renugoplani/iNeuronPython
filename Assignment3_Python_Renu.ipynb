{
 "cells": [
  {
   "cell_type": "markdown",
   "metadata": {},
   "source": [
    "# Task 1.1 Write a function to compute 5/0 and use try/except to catch the exceptions."
   ]
  },
  {
   "cell_type": "markdown",
   "metadata": {},
   "source": [
    "## Program"
   ]
  },
  {
   "cell_type": "code",
   "execution_count": null,
   "metadata": {},
   "outputs": [],
   "source": [
    "def div(numerator,denominator):\n",
    "        try:\n",
    "            ans = float(numerator)/float(denominator)\n",
    "            print(\"Answer = \",str(ans))\n",
    "        except ZeroDivisionError as e:\n",
    "            print(\"Denominator cannot be zero for division. Error =\",e)\n",
    "        except ValueError as v:\n",
    "            print(\"This is not a valid value. Error =\",v)\n",
    "        except Exception as ex:\n",
    "            print(\"Exception - \",ex)\n",
    "\n",
    "\n",
    "print(\"Enter numerator and denominator in sequence\")\n",
    "a = input()\n",
    "b = input()\n",
    "div(a,b)     "
   ]
  },
  {
   "cell_type": "markdown",
   "metadata": {},
   "source": [
    "##  Execution test results"
   ]
  },
  {
   "cell_type": "markdown",
   "metadata": {},
   "source": [
    "<img src=\"images/python_As3_Image3.jpg\" />"
   ]
  },
  {
   "cell_type": "markdown",
   "metadata": {},
   "source": [
    "# Task 1.2 Implement a Python program to generate all sentences where subject is in [\"Americans\", \"Indians\"] and verb is in [\"Play\", \"watch\"] and the object is in [\"Baseball\",\"cricket\"]."
   ]
  },
  {
   "cell_type": "markdown",
   "metadata": {},
   "source": [
    "## Program"
   ]
  },
  {
   "cell_type": "code",
   "execution_count": null,
   "metadata": {},
   "outputs": [],
   "source": [
    "subjects=[\"Americans\",\"Indians\"]\n",
    "verbs=[\"play\",\"watch\"]\n",
    "objects=[\"Baseball\",\"Cricket\"]\n",
    "for m in [sub+\" \"+verb+\" \"+obj for sub in subjects for verb in verbs for obj in objects]:\n",
    "    print(m)"
   ]
  },
  {
   "cell_type": "markdown",
   "metadata": {},
   "source": [
    "##  Execution test result"
   ]
  },
  {
   "cell_type": "markdown",
   "metadata": {},
   "source": [
    "<img src=\"images/python_As3_Image2.jpg\" />"
   ]
  },
  {
   "cell_type": "markdown",
   "metadata": {},
   "source": [
    "# Task 2 - Write a function so that the columns of the output matrix are powers of the input vector (Vandermonde matrix)"
   ]
  },
  {
   "cell_type": "markdown",
   "metadata": {},
   "source": [
    "## Program"
   ]
  },
  {
   "cell_type": "code",
   "execution_count": null,
   "metadata": {},
   "outputs": [],
   "source": [
    "Size = int(input(\"What's the size of your array?\\n\"))\n",
    "\n",
    "print(\"\\nEnter numbers in your array\")\n",
    "my_list = [int(input()) for i in range(Size)]\n",
    "\n",
    "print(\"\\nBelow is your original array\")\n",
    "print(my_list)\n",
    "\n",
    "new_matrix =[]\n",
    "for row in range(Size):\n",
    "    new_matrix_row = []\n",
    "    for col in range(Size):\n",
    "        new_matrix_row.append(my_list[row]**(Size-col-1))\n",
    "    new_matrix.insert(row,new_matrix_row)\n",
    "\n",
    "print(\"\\nAnd here is your Vandermonde matrix\")\n",
    "for i in range(Size):\n",
    "    print(new_matrix[i])        \n"
   ]
  },
  {
   "cell_type": "markdown",
   "metadata": {},
   "source": [
    "##  Execution test results"
   ]
  },
  {
   "cell_type": "markdown",
   "metadata": {},
   "source": [
    "<img src=\"images/python_As3_Image1.jpg\" />"
   ]
  }
 ],
 "metadata": {
  "kernelspec": {
   "display_name": "Python 3",
   "language": "python",
   "name": "python3"
  },
  "language_info": {
   "codemirror_mode": {
    "name": "ipython",
    "version": 3
   },
   "file_extension": ".py",
   "mimetype": "text/x-python",
   "name": "python",
   "nbconvert_exporter": "python",
   "pygments_lexer": "ipython3",
   "version": "3.7.6"
  }
 },
 "nbformat": 4,
 "nbformat_minor": 4
}
